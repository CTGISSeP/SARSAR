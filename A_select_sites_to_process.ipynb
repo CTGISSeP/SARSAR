{
 "cells": [
  {
   "cell_type": "markdown",
   "id": "617a3d4e",
   "metadata": {},
   "source": [
    "# 01 Select sites to process"
   ]
  },
  {
   "cell_type": "code",
   "execution_count": null,
   "id": "60f4b9e6",
   "metadata": {},
   "outputs": [],
   "source": [
    "import os, sys, datetime, pandas as pd\n",
    "sys.path.append(\"/home/gswinnen/SARSAR_Package_RenPri/code/\") # emplacement des modules RenPri\n",
    "\n",
    "from issep import sarsar_admin\n",
    "from os.path import join\n",
    "from lecture_ini import config"
   ]
  },
  {
   "cell_type": "code",
   "execution_count": null,
   "id": "f1082576",
   "metadata": {},
   "outputs": [],
   "source": [
    "def sites_to_process(dteDebut, dteFin, summerdteChgEnd, dteExe):\n",
    "    # Define Database connection parameters\n",
    "    # NOTE: password is in ~/.pgpass\n",
    "\n",
    "    credentials = config(section='postgresql')\n",
    "\n",
    "    db_credentials = {\n",
    "        'host': credentials['host'],\n",
    "        'user': credentials['user'],\n",
    "        'db' : credentials['database']\n",
    "    }\n",
    "\n",
    "    # ALWAYS prepare env at the beginning\n",
    "    print('> Preparing env (DB credentials, etc)')\n",
    "    sarsar_admin.prepare_env(db_credentials)\n",
    "    \n",
    "    \n",
    "    conn = sarsar_admin._create_or_get_db_connection()\n",
    "    cur = None\n",
    "    cur2 = None\n",
    "\n",
    "    try:\n",
    "        import psycopg2.extras #permet de communiquer avec pgsql\n",
    "        cur = conn.cursor(cursor_factory = psycopg2.extras.DictCursor)\n",
    "\n",
    "        # Liste les sar_id_segment pour lesquels j'ai des observations dans l'intervalle de dates\n",
    "        strSQL = '''SELECT DISTINCT s.sar_id_segment \n",
    "                    FROM sar_index_stats s, sar_def d WHERE s.sar_id_segment = d.id_segment \n",
    "                    AND d.is_active = 't' \n",
    "                    AND s.index_name NOT IN ('BI2','VV','SBI','NDVI','BI2_part1','BI','BAI','VH') \n",
    "                    AND substring(s.index_name,1,2) != 'VV' AND s.acq_date BETWEEN '{0}' AND '{1}' \n",
    "                    ORDER BY s.sar_id_segment;'''.format(dteDebut, dteFin)\n",
    "        cur.execute(strSQL)\n",
    "        sites = [item[0] for item in cur.fetchall()]\n",
    "\n",
    "        return sites\n",
    "            \n",
    "    except (Exception, psycopg2.DatabaseError) as error:\n",
    "        print(error)\n",
    "        return []\n",
    "    \n",
    "    finally:\n",
    "        if cur is not None:\n",
    "            cur.close()\n",
    "\n",
    "    # ALWAYS release env at the end\n",
    "    print('> Releasing env')\n",
    "    sarsar_admin.release_env()"
   ]
  }
 ],
 "metadata": {
  "kernelspec": {
   "display_name": "Python 3",
   "language": "python",
   "name": "python3"
  },
  "language_info": {
   "codemirror_mode": {
    "name": "ipython",
    "version": 3
   },
   "file_extension": ".py",
   "mimetype": "text/x-python",
   "name": "python",
   "nbconvert_exporter": "python",
   "pygments_lexer": "ipython3",
   "version": "3.9.11"
  }
 },
 "nbformat": 4,
 "nbformat_minor": 5
}
