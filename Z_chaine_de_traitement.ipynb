{
 "cells": [
  {
   "cell_type": "code",
   "execution_count": null,
   "id": "209720a2",
   "metadata": {},
   "outputs": [],
   "source": [
    "import os, sys, datetime, pandas as pd\n",
    "sys.path.append(\"/home/gswinnen/SARSAR_Package_RenPri/code/\") # emplacement des modules RenPri\n",
    "from issep import sarsar_admin\n",
    "from os.path import join\n",
    "from lecture_ini import config\n",
    "\n",
    "import B_generate_CSV_for_change_detection_new as B\n",
    "import C_smooth_time_serie as C\n",
    "import D_dates_change_classification_new as D\n",
    "\n",
    "import E_summer_change_classification as E\n",
    "import F_confidence_and_priority_computation as F\n",
    "import G_send_report_psql2csv as G"
   ]
  },
  {
   "cell_type": "code",
   "execution_count": null,
   "id": "34d6cc42",
   "metadata": {},
   "outputs": [],
   "source": [
    "# Fixe les paramètres pour les fonctions\n",
    "dates = config(section='dates')\n",
    "dteDebut = dates['deb']\n",
    "dteFin = dates['fin']\n",
    "dteChgEnd = dates['chg_end']\n",
    "dteExe = dates['exe']\n",
    "summer = int(dates['summer'])\n",
    "\n",
    "courriel = config(section='courriel')\n",
    "destinataires = courriel['to']\n",
    "\n",
    "report_type =  \"bimestrial\" # bimestrial, summer, on_demand"
   ]
  },
  {
   "cell_type": "code",
   "execution_count": null,
   "id": "ecf5639f",
   "metadata": {},
   "outputs": [],
   "source": [
    "# Appelle séquentiellement les scripts de la chaîne de traitement\n",
    "#A.outlier_removal()   # remplacer par un appel dans B et C "
   ]
  },
  {
   "cell_type": "code",
   "execution_count": null,
   "id": "07b3adec",
   "metadata": {},
   "outputs": [],
   "source": [
    "B.change_detection(dteDebut, dteFin, dteChgEnd, dteExe)"
   ]
  },
  {
   "cell_type": "code",
   "execution_count": null,
   "id": "1e77f983",
   "metadata": {},
   "outputs": [],
   "source": [
    "C.smooth_time_serie(dteDebut, dteFin, dteExe)"
   ]
  },
  {
   "cell_type": "code",
   "execution_count": null,
   "id": "35403d91",
   "metadata": {},
   "outputs": [],
   "source": [
    "D.dates_change_classification(dteDebut, dteFin, dteChgEnd, dteExe)"
   ]
  },
  {
   "cell_type": "code",
   "execution_count": null,
   "id": "23ccb546",
   "metadata": {},
   "outputs": [],
   "source": [
    "E.summer_change_classification(summer, dteExe)"
   ]
  },
  {
   "cell_type": "code",
   "execution_count": null,
   "id": "0b287ee4",
   "metadata": {},
   "outputs": [],
   "source": [
    "F.confidence_and_priority_computation(dteChgEnd, dteExe, report_type)"
   ]
  },
  {
   "cell_type": "code",
   "execution_count": null,
   "id": "74fdd105",
   "metadata": {},
   "outputs": [],
   "source": [
    "G.send_report(dteChgEnd, destinataires)"
   ]
  }
 ],
 "metadata": {
  "kernelspec": {
   "display_name": "Python 3",
   "language": "python",
   "name": "python3"
  },
  "language_info": {
   "codemirror_mode": {
    "name": "ipython",
    "version": 3
   },
   "file_extension": ".py",
   "mimetype": "text/x-python",
   "name": "python",
   "nbconvert_exporter": "python",
   "pygments_lexer": "ipython3",
   "version": "3.9.11"
  }
 },
 "nbformat": 4,
 "nbformat_minor": 5
}
