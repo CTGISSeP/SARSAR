{
 "cells": [
  {
   "cell_type": "markdown",
   "id": "776a608a",
   "metadata": {},
   "source": [
    "# 07 Send CSV report"
   ]
  },
  {
   "cell_type": "code",
   "execution_count": null,
   "id": "e5436c0b",
   "metadata": {},
   "outputs": [],
   "source": [
    "import os, sys, datetime, pandas as pd\n",
    "sys.path.append(\"/home/gswinnen/SARSAR_Package_RenPri/code/\") # emplacement des modules RenPri\n",
    "from issep import sarsar_admin\n",
    "from os.path import join\n",
    "from lecture_ini import config"
   ]
  },
  {
   "cell_type": "code",
   "execution_count": null,
   "id": "188c03b9",
   "metadata": {},
   "outputs": [],
   "source": [
    "def send_report(dteChgEnd, to='g.swinnen@issep.be c.wyard@issep.be'):\n",
    "    \n",
    "    # Emplacement où sera créé le rapport CSV\n",
    "    chemins = config(section='chemins')\n",
    "    fichier = join(chemins['rapports'], '{0}_DIGIT.csv'.format(dteChgEnd))  # r'/home/cowy/bimestriel_{0}_DIGIT.csv'.format(dteChgEnd)\n",
    "\n",
    "    # Define Database connection parameters\n",
    "    # NOTE: password is in ~/.pgpass\n",
    "    credentials = config(section='postgresql')\n",
    "\n",
    "    db_credentials = {\n",
    "        'host': credentials['host'],\n",
    "        'user': credentials['user'],\n",
    "        'db' : credentials['database']\n",
    "    }\n",
    "\n",
    "    # ALWAYS prepare env et the beginning\n",
    "    print('> Preparing env (DB credentials, etc)')\n",
    "    sarsar_admin.prepare_env(db_credentials)\n",
    "\n",
    "    # Ouvre la connexion à la DB\n",
    "    conn = sarsar_admin._create_or_get_db_connection()\n",
    "\n",
    "    try:\n",
    "        import psycopg2.extras\n",
    "        \n",
    "        # Lit les données en tant que dataframe pandas et les sauve en tant que CSV\n",
    "#        strSQL = 'SELECT * FROM \"bimestriel_{0}_DIGIT\";'.format(dteChgEnd)\n",
    "        strSQL = '''SELECT a.* FROM \"bimestriel_{0}_DIGIT\" a \n",
    "                    INNER JOIN (SELECT codecarto, max(ordre_de_priorite) AS priorite_max FROM \"bimestriel_{0}_DIGIT\" GROUP BY codecarto) b \n",
    "                    ON a.codecarto = b.codecarto AND a.ordre_de_priorite = b.priorite_max \n",
    "                    ORDER BY a.ordre_de_priorite DESC, a.codecarto ASC;'''.format(dteChgEnd)\n",
    "        \n",
    "        rapport = pd.read_sql_query(strSQL,conn)\n",
    "        rapport.to_csv(path_or_buf=fichier, sep=';', na_rep='NA', decimal=',', header=True, index=False, mode='w')\n",
    "        \n",
    "        # Envoi du rapport par courriel\n",
    "        subj = 'SARSAR: rapport de détection de changements'\n",
    "        message = 'Ci-joint le rapport au format CSV, directement ouvrable dans Excel'\n",
    "        files = fichier\n",
    "\n",
    "        courriel = config(section='courriel')\n",
    "        commande = 'sendemail -f {0} -t {1} -u \"{2}\" -s {3} -m \"{4}\" -a {5} -v -o message-charset={6}'.format(courriel['from'], to, subj, courriel['server'], message, files, courriel['charset'])\n",
    "        print(commande)\n",
    "\n",
    "        os.system(commande)\n",
    "        \n",
    "    except (Exception, psycopg2.DatabaseError) as error:\n",
    "        print(error)\n",
    "            \n",
    "    # ALWAYS release env at the end\n",
    "    print('> Releasing env')\n",
    "    sarsar_admin.release_env()"
   ]
  }
 ],
 "metadata": {
  "kernelspec": {
   "display_name": "Python 3",
   "language": "python",
   "name": "python3"
  },
  "language_info": {
   "codemirror_mode": {
    "name": "ipython",
    "version": 3
   },
   "file_extension": ".py",
   "mimetype": "text/x-python",
   "name": "python",
   "nbconvert_exporter": "python",
   "pygments_lexer": "ipython3",
   "version": "3.9.11"
  }
 },
 "nbformat": 4,
 "nbformat_minor": 5
}
